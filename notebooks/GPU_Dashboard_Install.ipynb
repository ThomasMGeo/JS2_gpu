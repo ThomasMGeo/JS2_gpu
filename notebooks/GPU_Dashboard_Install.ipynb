{
 "cells": [
  {
   "cell_type": "markdown",
   "id": "9b48a76b-24b0-4cdc-9497-3f26bb833816",
   "metadata": {},
   "source": [
    "## GPU Dashboard Install"
   ]
  },
  {
   "cell_type": "markdown",
   "id": "0db29920-f213-4e94-9d32-653df2ecbeca",
   "metadata": {},
   "source": [
    "I largely follow this technical blog from nvidia\n",
    "\n",
    "https://developer.nvidia.com/blog/gpu-dashboards-in-jupyter-lab/"
   ]
  },
  {
   "cell_type": "markdown",
   "id": "c672c5a5-b113-4a77-b16a-565c9257b14f",
   "metadata": {},
   "source": [
    "sanity check"
   ]
  },
  {
   "cell_type": "code",
   "execution_count": 5,
   "id": "486e72c8-52b6-4df7-b052-8f3fb810157b",
   "metadata": {},
   "outputs": [
    {
     "name": "stdout",
     "output_type": "stream",
     "text": [
      "Fri Nov 11 16:39:39 2022       \n",
      "+-----------------------------------------------------------------------------+\n",
      "| NVIDIA-SMI 510.85.02    Driver Version: 510.85.02    CUDA Version: 11.6     |\n",
      "|-------------------------------+----------------------+----------------------+\n",
      "| GPU  Name        Persistence-M| Bus-Id        Disp.A | Volatile Uncorr. ECC |\n",
      "| Fan  Temp  Perf  Pwr:Usage/Cap|         Memory-Usage | GPU-Util  Compute M. |\n",
      "|                               |                      |               MIG M. |\n",
      "|===============================+======================+======================|\n",
      "|   0  GRID A100X-8C       On   | 00000000:00:06.0 Off |                    0 |\n",
      "| N/A   N/A    P0    N/A /  N/A |      0MiB /  8192MiB |      0%      Default |\n",
      "|                               |                      |             Disabled |\n",
      "+-------------------------------+----------------------+----------------------+\n",
      "                                                                               \n",
      "+-----------------------------------------------------------------------------+\n",
      "| Processes:                                                                  |\n",
      "|  GPU   GI   CI        PID   Type   Process name                  GPU Memory |\n",
      "|        ID   ID                                                   Usage      |\n",
      "|=============================================================================|\n",
      "|  No running processes found                                                 |\n",
      "+-----------------------------------------------------------------------------+\n"
     ]
    }
   ],
   "source": [
    "!nvidia-smi"
   ]
  },
  {
   "cell_type": "code",
   "execution_count": 6,
   "id": "f2ebaa2c-4d95-4a6d-9146-1d7868cf18ac",
   "metadata": {},
   "outputs": [
    {
     "name": "stdout",
     "output_type": "stream",
     "text": [
      "Defaulting to user installation because normal site-packages is not writeable\n",
      "Requirement already satisfied: jupyterlab-nvdashboard in ./.local/lib/python3.8/site-packages (0.7.0)\n",
      "Requirement already satisfied: pynvml in ./.local/lib/python3.8/site-packages (from jupyterlab-nvdashboard) (11.4.1)\n",
      "Requirement already satisfied: jupyter-server-proxy in ./.local/lib/python3.8/site-packages (from jupyterlab-nvdashboard) (3.2.2)\n",
      "Requirement already satisfied: bokeh>2.1 in ./.local/lib/python3.8/site-packages (from jupyterlab-nvdashboard) (3.0.1)\n",
      "Requirement already satisfied: jupyterlab==3.*,>=3.0.0rc13 in /usr/local/lib/python3.8/dist-packages (from jupyterlab-nvdashboard) (3.5.0)\n",
      "Requirement already satisfied: psutil in /usr/local/lib/python3.8/dist-packages (from jupyterlab-nvdashboard) (5.9.4)\n",
      "Requirement already satisfied: ipython in /usr/local/lib/python3.8/dist-packages (from jupyterlab==3.*,>=3.0.0rc13->jupyterlab-nvdashboard) (8.6.0)\n",
      "Requirement already satisfied: jupyterlab-server~=2.10 in /usr/local/lib/python3.8/dist-packages (from jupyterlab==3.*,>=3.0.0rc13->jupyterlab-nvdashboard) (2.16.2)\n",
      "Requirement already satisfied: packaging in /usr/local/lib/python3.8/dist-packages (from jupyterlab==3.*,>=3.0.0rc13->jupyterlab-nvdashboard) (21.3)\n",
      "Requirement already satisfied: tornado>=6.1.0 in /usr/local/lib/python3.8/dist-packages (from jupyterlab==3.*,>=3.0.0rc13->jupyterlab-nvdashboard) (6.2)\n",
      "Requirement already satisfied: jupyter-core in /usr/local/lib/python3.8/dist-packages (from jupyterlab==3.*,>=3.0.0rc13->jupyterlab-nvdashboard) (5.0.0)\n",
      "Requirement already satisfied: nbclassic in /usr/local/lib/python3.8/dist-packages (from jupyterlab==3.*,>=3.0.0rc13->jupyterlab-nvdashboard) (0.4.8)\n",
      "Requirement already satisfied: jupyter-server<3,>=1.16.0 in /usr/local/lib/python3.8/dist-packages (from jupyterlab==3.*,>=3.0.0rc13->jupyterlab-nvdashboard) (1.23.1)\n",
      "Requirement already satisfied: jinja2>=2.1 in /usr/local/lib/python3.8/dist-packages (from jupyterlab==3.*,>=3.0.0rc13->jupyterlab-nvdashboard) (3.1.2)\n",
      "Requirement already satisfied: notebook<7 in /usr/local/lib/python3.8/dist-packages (from jupyterlab==3.*,>=3.0.0rc13->jupyterlab-nvdashboard) (6.5.2)\n",
      "Requirement already satisfied: tomli in /usr/local/lib/python3.8/dist-packages (from jupyterlab==3.*,>=3.0.0rc13->jupyterlab-nvdashboard) (2.0.1)\n",
      "Requirement already satisfied: pillow>=7.1.0 in /usr/local/lib/python3.8/dist-packages (from bokeh>2.1->jupyterlab-nvdashboard) (9.3.0)\n",
      "Requirement already satisfied: pandas>=1.2 in /usr/local/lib/python3.8/dist-packages (from bokeh>2.1->jupyterlab-nvdashboard) (1.5.1)\n",
      "Requirement already satisfied: xyzservices>=2021.09.1 in ./.local/lib/python3.8/site-packages (from bokeh>2.1->jupyterlab-nvdashboard) (2022.9.0)\n",
      "Requirement already satisfied: numpy>=1.11.3 in /usr/local/lib/python3.8/dist-packages (from bokeh>2.1->jupyterlab-nvdashboard) (1.23.4)\n",
      "Requirement already satisfied: PyYAML>=3.10 in ./.local/lib/python3.8/site-packages (from bokeh>2.1->jupyterlab-nvdashboard) (6.0)\n",
      "Requirement already satisfied: contourpy>=1 in /usr/local/lib/python3.8/dist-packages (from bokeh>2.1->jupyterlab-nvdashboard) (1.0.6)\n",
      "Requirement already satisfied: aiohttp in /usr/local/lib/python3.8/dist-packages (from jupyter-server-proxy->jupyterlab-nvdashboard) (3.8.3)\n",
      "Requirement already satisfied: simpervisor>=0.4 in ./.local/lib/python3.8/site-packages (from jupyter-server-proxy->jupyterlab-nvdashboard) (0.4)\n",
      "Requirement already satisfied: MarkupSafe>=2.0 in /usr/local/lib/python3.8/dist-packages (from jinja2>=2.1->jupyterlab==3.*,>=3.0.0rc13->jupyterlab-nvdashboard) (2.1.1)\n",
      "Requirement already satisfied: argon2-cffi in /usr/local/lib/python3.8/dist-packages (from jupyter-server<3,>=1.16.0->jupyterlab==3.*,>=3.0.0rc13->jupyterlab-nvdashboard) (21.3.0)\n",
      "Requirement already satisfied: traitlets>=5.1 in /usr/local/lib/python3.8/dist-packages (from jupyter-server<3,>=1.16.0->jupyterlab==3.*,>=3.0.0rc13->jupyterlab-nvdashboard) (5.5.0)\n",
      "Requirement already satisfied: nbconvert>=6.4.4 in /usr/local/lib/python3.8/dist-packages (from jupyter-server<3,>=1.16.0->jupyterlab==3.*,>=3.0.0rc13->jupyterlab-nvdashboard) (7.2.4)\n",
      "Requirement already satisfied: prometheus-client in /usr/local/lib/python3.8/dist-packages (from jupyter-server<3,>=1.16.0->jupyterlab==3.*,>=3.0.0rc13->jupyterlab-nvdashboard) (0.15.0)\n",
      "Requirement already satisfied: nbformat>=5.2.0 in /usr/local/lib/python3.8/dist-packages (from jupyter-server<3,>=1.16.0->jupyterlab==3.*,>=3.0.0rc13->jupyterlab-nvdashboard) (5.7.0)\n",
      "Requirement already satisfied: terminado>=0.8.3 in /usr/local/lib/python3.8/dist-packages (from jupyter-server<3,>=1.16.0->jupyterlab==3.*,>=3.0.0rc13->jupyterlab-nvdashboard) (0.17.0)\n",
      "Requirement already satisfied: jupyter-client>=6.1.12 in /usr/local/lib/python3.8/dist-packages (from jupyter-server<3,>=1.16.0->jupyterlab==3.*,>=3.0.0rc13->jupyterlab-nvdashboard) (7.4.5)\n",
      "Requirement already satisfied: websocket-client in /usr/local/lib/python3.8/dist-packages (from jupyter-server<3,>=1.16.0->jupyterlab==3.*,>=3.0.0rc13->jupyterlab-nvdashboard) (1.4.2)\n",
      "Requirement already satisfied: Send2Trash in /usr/local/lib/python3.8/dist-packages (from jupyter-server<3,>=1.16.0->jupyterlab==3.*,>=3.0.0rc13->jupyterlab-nvdashboard) (1.8.0)\n",
      "Requirement already satisfied: pyzmq>=17 in /usr/local/lib/python3.8/dist-packages (from jupyter-server<3,>=1.16.0->jupyterlab==3.*,>=3.0.0rc13->jupyterlab-nvdashboard) (24.0.1)\n",
      "Requirement already satisfied: anyio<4,>=3.1.0 in /usr/local/lib/python3.8/dist-packages (from jupyter-server<3,>=1.16.0->jupyterlab==3.*,>=3.0.0rc13->jupyterlab-nvdashboard) (3.6.2)\n",
      "Requirement already satisfied: platformdirs in /usr/local/lib/python3.8/dist-packages (from jupyter-core->jupyterlab==3.*,>=3.0.0rc13->jupyterlab-nvdashboard) (2.5.3)\n",
      "Requirement already satisfied: jsonschema>=3.0.1 in /usr/local/lib/python3.8/dist-packages (from jupyterlab-server~=2.10->jupyterlab==3.*,>=3.0.0rc13->jupyterlab-nvdashboard) (4.17.0)\n",
      "Requirement already satisfied: json5 in /usr/local/lib/python3.8/dist-packages (from jupyterlab-server~=2.10->jupyterlab==3.*,>=3.0.0rc13->jupyterlab-nvdashboard) (0.9.10)\n",
      "Requirement already satisfied: babel in /usr/local/lib/python3.8/dist-packages (from jupyterlab-server~=2.10->jupyterlab==3.*,>=3.0.0rc13->jupyterlab-nvdashboard) (2.11.0)\n",
      "Requirement already satisfied: importlib-metadata>=4.8.3 in /usr/local/lib/python3.8/dist-packages (from jupyterlab-server~=2.10->jupyterlab==3.*,>=3.0.0rc13->jupyterlab-nvdashboard) (5.0.0)\n",
      "Requirement already satisfied: requests in /usr/local/lib/python3.8/dist-packages (from jupyterlab-server~=2.10->jupyterlab==3.*,>=3.0.0rc13->jupyterlab-nvdashboard) (2.28.1)\n",
      "Requirement already satisfied: nest-asyncio>=1.5 in /usr/local/lib/python3.8/dist-packages (from notebook<7->jupyterlab==3.*,>=3.0.0rc13->jupyterlab-nvdashboard) (1.5.6)\n",
      "Requirement already satisfied: ipykernel in /usr/local/lib/python3.8/dist-packages (from notebook<7->jupyterlab==3.*,>=3.0.0rc13->jupyterlab-nvdashboard) (6.17.1)\n",
      "Requirement already satisfied: ipython-genutils in /usr/local/lib/python3.8/dist-packages (from notebook<7->jupyterlab==3.*,>=3.0.0rc13->jupyterlab-nvdashboard) (0.2.0)\n",
      "Requirement already satisfied: notebook-shim>=0.1.0 in /usr/local/lib/python3.8/dist-packages (from nbclassic->jupyterlab==3.*,>=3.0.0rc13->jupyterlab-nvdashboard) (0.2.2)\n",
      "Requirement already satisfied: pyparsing!=3.0.5,>=2.0.2 in /usr/local/lib/python3.8/dist-packages (from packaging->jupyterlab==3.*,>=3.0.0rc13->jupyterlab-nvdashboard) (3.0.9)\n",
      "Requirement already satisfied: python-dateutil>=2.8.1 in /usr/local/lib/python3.8/dist-packages (from pandas>=1.2->bokeh>2.1->jupyterlab-nvdashboard) (2.8.2)\n",
      "Requirement already satisfied: pytz>=2020.1 in /usr/local/lib/python3.8/dist-packages (from pandas>=1.2->bokeh>2.1->jupyterlab-nvdashboard) (2022.6)\n",
      "Requirement already satisfied: charset-normalizer<3.0,>=2.0 in /usr/local/lib/python3.8/dist-packages (from aiohttp->jupyter-server-proxy->jupyterlab-nvdashboard) (2.1.1)\n",
      "Requirement already satisfied: yarl<2.0,>=1.0 in /usr/local/lib/python3.8/dist-packages (from aiohttp->jupyter-server-proxy->jupyterlab-nvdashboard) (1.8.1)\n",
      "Requirement already satisfied: frozenlist>=1.1.1 in /usr/local/lib/python3.8/dist-packages (from aiohttp->jupyter-server-proxy->jupyterlab-nvdashboard) (1.3.3)\n",
      "Requirement already satisfied: multidict<7.0,>=4.5 in /usr/local/lib/python3.8/dist-packages (from aiohttp->jupyter-server-proxy->jupyterlab-nvdashboard) (6.0.2)\n",
      "Requirement already satisfied: aiosignal>=1.1.2 in /usr/local/lib/python3.8/dist-packages (from aiohttp->jupyter-server-proxy->jupyterlab-nvdashboard) (1.3.1)\n",
      "Requirement already satisfied: async-timeout<5.0,>=4.0.0a3 in /usr/local/lib/python3.8/dist-packages (from aiohttp->jupyter-server-proxy->jupyterlab-nvdashboard) (4.0.2)\n",
      "Requirement already satisfied: attrs>=17.3.0 in /usr/local/lib/python3.8/dist-packages (from aiohttp->jupyter-server-proxy->jupyterlab-nvdashboard) (22.1.0)\n",
      "Requirement already satisfied: pickleshare in /usr/local/lib/python3.8/dist-packages (from ipython->jupyterlab==3.*,>=3.0.0rc13->jupyterlab-nvdashboard) (0.7.5)\n",
      "Requirement already satisfied: backcall in /usr/local/lib/python3.8/dist-packages (from ipython->jupyterlab==3.*,>=3.0.0rc13->jupyterlab-nvdashboard) (0.2.0)\n",
      "Requirement already satisfied: pexpect>4.3 in /usr/local/lib/python3.8/dist-packages (from ipython->jupyterlab==3.*,>=3.0.0rc13->jupyterlab-nvdashboard) (4.8.0)\n",
      "Requirement already satisfied: pygments>=2.4.0 in /usr/local/lib/python3.8/dist-packages (from ipython->jupyterlab==3.*,>=3.0.0rc13->jupyterlab-nvdashboard) (2.13.0)\n",
      "Requirement already satisfied: jedi>=0.16 in /usr/local/lib/python3.8/dist-packages (from ipython->jupyterlab==3.*,>=3.0.0rc13->jupyterlab-nvdashboard) (0.18.1)\n",
      "Requirement already satisfied: prompt-toolkit<3.1.0,>3.0.1 in /usr/local/lib/python3.8/dist-packages (from ipython->jupyterlab==3.*,>=3.0.0rc13->jupyterlab-nvdashboard) (3.0.32)\n",
      "Requirement already satisfied: matplotlib-inline in /usr/local/lib/python3.8/dist-packages (from ipython->jupyterlab==3.*,>=3.0.0rc13->jupyterlab-nvdashboard) (0.1.6)\n",
      "Requirement already satisfied: stack-data in /usr/local/lib/python3.8/dist-packages (from ipython->jupyterlab==3.*,>=3.0.0rc13->jupyterlab-nvdashboard) (0.6.0)\n",
      "Requirement already satisfied: decorator in /usr/local/lib/python3.8/dist-packages (from ipython->jupyterlab==3.*,>=3.0.0rc13->jupyterlab-nvdashboard) (5.1.1)\n",
      "Requirement already satisfied: sniffio>=1.1 in /usr/local/lib/python3.8/dist-packages (from anyio<4,>=3.1.0->jupyter-server<3,>=1.16.0->jupyterlab==3.*,>=3.0.0rc13->jupyterlab-nvdashboard) (1.3.0)\n",
      "Requirement already satisfied: idna>=2.8 in /usr/local/lib/python3.8/dist-packages (from anyio<4,>=3.1.0->jupyter-server<3,>=1.16.0->jupyterlab==3.*,>=3.0.0rc13->jupyterlab-nvdashboard) (3.4)\n",
      "Requirement already satisfied: zipp>=0.5 in /usr/local/lib/python3.8/dist-packages (from importlib-metadata>=4.8.3->jupyterlab-server~=2.10->jupyterlab==3.*,>=3.0.0rc13->jupyterlab-nvdashboard) (3.10.0)\n",
      "Requirement already satisfied: parso<0.9.0,>=0.8.0 in /usr/local/lib/python3.8/dist-packages (from jedi>=0.16->ipython->jupyterlab==3.*,>=3.0.0rc13->jupyterlab-nvdashboard) (0.8.3)\n",
      "Requirement already satisfied: importlib-resources>=1.4.0 in /usr/local/lib/python3.8/dist-packages (from jsonschema>=3.0.1->jupyterlab-server~=2.10->jupyterlab==3.*,>=3.0.0rc13->jupyterlab-nvdashboard) (5.10.0)\n",
      "Requirement already satisfied: pkgutil-resolve-name>=1.3.10 in /usr/local/lib/python3.8/dist-packages (from jsonschema>=3.0.1->jupyterlab-server~=2.10->jupyterlab==3.*,>=3.0.0rc13->jupyterlab-nvdashboard) (1.3.10)\n",
      "Requirement already satisfied: pyrsistent!=0.17.0,!=0.17.1,!=0.17.2,>=0.14.0 in /usr/local/lib/python3.8/dist-packages (from jsonschema>=3.0.1->jupyterlab-server~=2.10->jupyterlab==3.*,>=3.0.0rc13->jupyterlab-nvdashboard) (0.19.2)\n",
      "Requirement already satisfied: entrypoints in /usr/local/lib/python3.8/dist-packages (from jupyter-client>=6.1.12->jupyter-server<3,>=1.16.0->jupyterlab==3.*,>=3.0.0rc13->jupyterlab-nvdashboard) (0.4)\n",
      "Requirement already satisfied: defusedxml in /usr/local/lib/python3.8/dist-packages (from nbconvert>=6.4.4->jupyter-server<3,>=1.16.0->jupyterlab==3.*,>=3.0.0rc13->jupyterlab-nvdashboard) (0.7.1)\n",
      "Requirement already satisfied: bleach in /usr/local/lib/python3.8/dist-packages (from nbconvert>=6.4.4->jupyter-server<3,>=1.16.0->jupyterlab==3.*,>=3.0.0rc13->jupyterlab-nvdashboard) (5.0.1)\n",
      "Requirement already satisfied: pandocfilters>=1.4.1 in /usr/local/lib/python3.8/dist-packages (from nbconvert>=6.4.4->jupyter-server<3,>=1.16.0->jupyterlab==3.*,>=3.0.0rc13->jupyterlab-nvdashboard) (1.5.0)\n",
      "Requirement already satisfied: tinycss2 in /usr/local/lib/python3.8/dist-packages (from nbconvert>=6.4.4->jupyter-server<3,>=1.16.0->jupyterlab==3.*,>=3.0.0rc13->jupyterlab-nvdashboard) (1.2.1)\n",
      "Requirement already satisfied: jupyterlab-pygments in /usr/local/lib/python3.8/dist-packages (from nbconvert>=6.4.4->jupyter-server<3,>=1.16.0->jupyterlab==3.*,>=3.0.0rc13->jupyterlab-nvdashboard) (0.2.2)\n",
      "Requirement already satisfied: nbclient>=0.5.0 in /usr/local/lib/python3.8/dist-packages (from nbconvert>=6.4.4->jupyter-server<3,>=1.16.0->jupyterlab==3.*,>=3.0.0rc13->jupyterlab-nvdashboard) (0.7.0)\n",
      "Requirement already satisfied: mistune<3,>=2.0.3 in /usr/local/lib/python3.8/dist-packages (from nbconvert>=6.4.4->jupyter-server<3,>=1.16.0->jupyterlab==3.*,>=3.0.0rc13->jupyterlab-nvdashboard) (2.0.4)\n",
      "Requirement already satisfied: beautifulsoup4 in /usr/local/lib/python3.8/dist-packages (from nbconvert>=6.4.4->jupyter-server<3,>=1.16.0->jupyterlab==3.*,>=3.0.0rc13->jupyterlab-nvdashboard) (4.11.1)\n",
      "Requirement already satisfied: fastjsonschema in /usr/local/lib/python3.8/dist-packages (from nbformat>=5.2.0->jupyter-server<3,>=1.16.0->jupyterlab==3.*,>=3.0.0rc13->jupyterlab-nvdashboard) (2.16.2)\n",
      "Requirement already satisfied: ptyprocess>=0.5 in /usr/local/lib/python3.8/dist-packages (from pexpect>4.3->ipython->jupyterlab==3.*,>=3.0.0rc13->jupyterlab-nvdashboard) (0.7.0)\n",
      "Requirement already satisfied: wcwidth in /usr/local/lib/python3.8/dist-packages (from prompt-toolkit<3.1.0,>3.0.1->ipython->jupyterlab==3.*,>=3.0.0rc13->jupyterlab-nvdashboard) (0.2.5)\n",
      "Requirement already satisfied: six>=1.5 in /usr/local/lib/python3.8/dist-packages (from python-dateutil>=2.8.1->pandas>=1.2->bokeh>2.1->jupyterlab-nvdashboard) (1.16.0)\n",
      "Requirement already satisfied: argon2-cffi-bindings in /usr/local/lib/python3.8/dist-packages (from argon2-cffi->jupyter-server<3,>=1.16.0->jupyterlab==3.*,>=3.0.0rc13->jupyterlab-nvdashboard) (21.2.0)\n",
      "Requirement already satisfied: debugpy>=1.0 in /usr/local/lib/python3.8/dist-packages (from ipykernel->notebook<7->jupyterlab==3.*,>=3.0.0rc13->jupyterlab-nvdashboard) (1.6.3)\n",
      "Requirement already satisfied: certifi>=2017.4.17 in /usr/local/lib/python3.8/dist-packages (from requests->jupyterlab-server~=2.10->jupyterlab==3.*,>=3.0.0rc13->jupyterlab-nvdashboard) (2022.9.24)\n",
      "Requirement already satisfied: urllib3<1.27,>=1.21.1 in /usr/local/lib/python3.8/dist-packages (from requests->jupyterlab-server~=2.10->jupyterlab==3.*,>=3.0.0rc13->jupyterlab-nvdashboard) (1.26.12)\n",
      "Requirement already satisfied: executing>=1.2.0 in /usr/local/lib/python3.8/dist-packages (from stack-data->ipython->jupyterlab==3.*,>=3.0.0rc13->jupyterlab-nvdashboard) (1.2.0)\n",
      "Requirement already satisfied: pure-eval in /usr/local/lib/python3.8/dist-packages (from stack-data->ipython->jupyterlab==3.*,>=3.0.0rc13->jupyterlab-nvdashboard) (0.2.2)\n",
      "Requirement already satisfied: asttokens>=2.1.0 in /usr/local/lib/python3.8/dist-packages (from stack-data->ipython->jupyterlab==3.*,>=3.0.0rc13->jupyterlab-nvdashboard) (2.1.0)\n",
      "Requirement already satisfied: cffi>=1.0.1 in /usr/local/lib/python3.8/dist-packages (from argon2-cffi-bindings->argon2-cffi->jupyter-server<3,>=1.16.0->jupyterlab==3.*,>=3.0.0rc13->jupyterlab-nvdashboard) (1.15.1)\n",
      "Requirement already satisfied: soupsieve>1.2 in /usr/local/lib/python3.8/dist-packages (from beautifulsoup4->nbconvert>=6.4.4->jupyter-server<3,>=1.16.0->jupyterlab==3.*,>=3.0.0rc13->jupyterlab-nvdashboard) (2.3.2.post1)\n",
      "Requirement already satisfied: webencodings in /usr/local/lib/python3.8/dist-packages (from bleach->nbconvert>=6.4.4->jupyter-server<3,>=1.16.0->jupyterlab==3.*,>=3.0.0rc13->jupyterlab-nvdashboard) (0.5.1)\n",
      "Requirement already satisfied: pycparser in /usr/local/lib/python3.8/dist-packages (from cffi>=1.0.1->argon2-cffi-bindings->argon2-cffi->jupyter-server<3,>=1.16.0->jupyterlab==3.*,>=3.0.0rc13->jupyterlab-nvdashboard) (2.21)\n",
      "Note: you may need to restart the kernel to use updated packages.\n"
     ]
    }
   ],
   "source": [
    "pip install jupyterlab-nvdashboard"
   ]
  },
  {
   "cell_type": "markdown",
   "id": "ff36a3c5-39db-4790-b962-674729588f93",
   "metadata": {},
   "source": [
    "Now I am going to re-start my Jhub"
   ]
  },
  {
   "cell_type": "code",
   "execution_count": 2,
   "id": "c202c0c1-bd59-48e8-a4f3-5371350d09c4",
   "metadata": {},
   "outputs": [
    {
     "name": "stdout",
     "output_type": "stream",
     "text": [
      "An error occurred.\n",
      "ValueError: Please install nodejs >=12.0.0 before continuing. nodejs may be installed using conda or directly from the nodejs website.\n",
      "See the log file for details:  /tmp/jupyterlab-debug-dvtl0dkd.log\n"
     ]
    }
   ],
   "source": [
    "!jupyter labextension install jupyterlab-nvdashboard"
   ]
  },
  {
   "cell_type": "code",
   "execution_count": 6,
   "id": "76019ed6-bb8c-4d99-a026-b942c7f63afa",
   "metadata": {},
   "outputs": [
    {
     "name": "stdout",
     "output_type": "stream",
     "text": [
      "Config dir: /home/thomasmgeo/.jupyter\n",
      "\n",
      "Config dir: /usr/etc/jupyter\n",
      "\n",
      "Config dir: /usr/local/etc/jupyter\n",
      "    jupyterlab \u001b[32menabled\u001b[0m\n",
      "    - Validating jupyterlab...\n",
      "      jupyterlab 3.5.0 \u001b[32mOK\u001b[0m\n",
      "    nbclassic \u001b[32menabled\u001b[0m\n",
      "    - Validating nbclassic...\n",
      "      nbclassic 0.4.8 \u001b[32mOK\u001b[0m\n",
      "    notebook_shim \u001b[32menabled\u001b[0m\n",
      "    - Validating notebook_shim...\n",
      "      notebook_shim  \u001b[32mOK\u001b[0m\n",
      "\n"
     ]
    }
   ],
   "source": [
    "!jupyter server extension list"
   ]
  },
  {
   "cell_type": "code",
   "execution_count": 7,
   "id": "d7f06546-8f14-4954-840b-e2cbad9525ab",
   "metadata": {},
   "outputs": [
    {
     "name": "stdout",
     "output_type": "stream",
     "text": [
      "JupyterLab v3.5.0\n",
      "/home/thomasmgeo/.local/share/jupyter/labextensions\n",
      "        jupyterlab-nvdashboard v0.7.0 \u001b[32menabled\u001b[0m \u001b[32mOK\u001b[0m (python, jupyterlab_nvdashboard)\n",
      "        @jupyterlab/server-proxy v3.2.2 \u001b[32menabled\u001b[0m \u001b[32mOK\u001b[0m\n",
      "\n",
      "/usr/local/share/jupyter/labextensions\n",
      "        jupyterlab-plotly v5.11.0 \u001b[32menabled\u001b[0m \u001b[32mOK\u001b[0m\n",
      "        jupyterlab_pygments v0.2.2 \u001b[32menabled\u001b[0m \u001b[32mOK\u001b[0m (python, jupyterlab_pygments)\n",
      "        catboost-widget v1.0.0 \u001b[32menabled\u001b[0m \u001b[32mOK\u001b[0m\n",
      "\n"
     ]
    }
   ],
   "source": [
    "!jupyter labextension list"
   ]
  },
  {
   "cell_type": "code",
   "execution_count": null,
   "id": "b89e8d59-9335-44ee-9535-7f68e0dca40f",
   "metadata": {},
   "outputs": [],
   "source": []
  }
 ],
 "metadata": {
  "kernelspec": {
   "display_name": "Python 3 (ipykernel)",
   "language": "python",
   "name": "python3"
  },
  "language_info": {
   "codemirror_mode": {
    "name": "ipython",
    "version": 3
   },
   "file_extension": ".py",
   "mimetype": "text/x-python",
   "name": "python",
   "nbconvert_exporter": "python",
   "pygments_lexer": "ipython3",
   "version": "3.8.10"
  }
 },
 "nbformat": 4,
 "nbformat_minor": 5
}
